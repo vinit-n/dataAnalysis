{
 "cells": [
  {
   "cell_type": "markdown",
   "metadata": {},
   "source": [
    "**Name: Vinit Nalawade**"
   ]
  },
  {
   "cell_type": "code",
   "execution_count": 1,
   "metadata": {
    "collapsed": false
   },
   "outputs": [
    {
     "name": "stderr",
     "output_type": "stream",
     "text": [
      "C:\\Users\\Vinit\\AppData\\Local\\Enthought\\Canopy\\User\\lib\\site-packages\\IPython\\core\\interactiveshell.py:2885: FutureWarning: \n",
      "mpl_style had been deprecated and will be removed in a future version.\n",
      "Use `matplotlib.pyplot.style.use` instead.\n",
      "\n",
      "  exec(code_obj, self.user_global_ns, self.user_ns)\n"
     ]
    }
   ],
   "source": [
    "#import required libraries\n",
    "import pandas as pd\n",
    "import numpy as np\n",
    "#for counter operations\n",
    "from collections import Counter\n",
    "#for plotting graphs\n",
    "import matplotlib.pyplot as plt\n",
    "# Make the graphs a bit prettier, and bigger\n",
    "pd.set_option('display.mpl_style', 'default')\n",
    "pd.set_option('display.width', 5000)\n",
    "pd.set_option('display.max_columns', 60)\n",
    "%matplotlib inline"
   ]
  },
  {
   "cell_type": "markdown",
   "metadata": {},
   "source": [
    "**Part One:** Go to the <a href = \"https://www.ssa.gov/oact/babynames/numberUSbirths.html\">Social Security Administration US births website</a> and select the births table there and copy it to your clipboard. Use the pandas read_clipboard function to read the table into Python, and use matplotlib to plot male and female births for the years covered in the data. "
   ]
  },
  {
   "cell_type": "code",
   "execution_count": 2,
   "metadata": {
    "collapsed": false
   },
   "outputs": [],
   "source": [
    "#informing python that ',' indicates thousands\n",
    "df = pd.read_clipboard(thousands = ',')"
   ]
  },
  {
   "cell_type": "code",
   "execution_count": 3,
   "metadata": {
    "collapsed": false,
    "scrolled": false
   },
   "outputs": [
    {
     "data": {
      "text/html": [
       "<div>\n",
       "<table border=\"1\" class=\"dataframe\">\n",
       "  <thead>\n",
       "    <tr style=\"text-align: right;\">\n",
       "      <th></th>\n",
       "      <th>Year of birth</th>\n",
       "      <th>Male</th>\n",
       "      <th>Female</th>\n",
       "      <th>Total</th>\n",
       "    </tr>\n",
       "  </thead>\n",
       "  <tbody>\n",
       "    <tr>\n",
       "      <th>0</th>\n",
       "      <td>1880</td>\n",
       "      <td>118399</td>\n",
       "      <td>97604</td>\n",
       "      <td>216003</td>\n",
       "    </tr>\n",
       "    <tr>\n",
       "      <th>1</th>\n",
       "      <td>1881</td>\n",
       "      <td>108282</td>\n",
       "      <td>98855</td>\n",
       "      <td>207137</td>\n",
       "    </tr>\n",
       "    <tr>\n",
       "      <th>2</th>\n",
       "      <td>1882</td>\n",
       "      <td>122031</td>\n",
       "      <td>115696</td>\n",
       "      <td>237727</td>\n",
       "    </tr>\n",
       "    <tr>\n",
       "      <th>3</th>\n",
       "      <td>1883</td>\n",
       "      <td>112478</td>\n",
       "      <td>120059</td>\n",
       "      <td>232537</td>\n",
       "    </tr>\n",
       "    <tr>\n",
       "      <th>4</th>\n",
       "      <td>1884</td>\n",
       "      <td>122739</td>\n",
       "      <td>137586</td>\n",
       "      <td>260325</td>\n",
       "    </tr>\n",
       "    <tr>\n",
       "      <th>5</th>\n",
       "      <td>1885</td>\n",
       "      <td>115946</td>\n",
       "      <td>141949</td>\n",
       "      <td>257895</td>\n",
       "    </tr>\n",
       "    <tr>\n",
       "      <th>6</th>\n",
       "      <td>1886</td>\n",
       "      <td>119042</td>\n",
       "      <td>153736</td>\n",
       "      <td>272778</td>\n",
       "    </tr>\n",
       "    <tr>\n",
       "      <th>7</th>\n",
       "      <td>1887</td>\n",
       "      <td>109315</td>\n",
       "      <td>155422</td>\n",
       "      <td>264737</td>\n",
       "    </tr>\n",
       "    <tr>\n",
       "      <th>8</th>\n",
       "      <td>1888</td>\n",
       "      <td>129905</td>\n",
       "      <td>189447</td>\n",
       "      <td>319352</td>\n",
       "    </tr>\n",
       "    <tr>\n",
       "      <th>9</th>\n",
       "      <td>1889</td>\n",
       "      <td>119034</td>\n",
       "      <td>189219</td>\n",
       "      <td>308253</td>\n",
       "    </tr>\n",
       "    <tr>\n",
       "      <th>10</th>\n",
       "      <td>1890</td>\n",
       "      <td>119701</td>\n",
       "      <td>201661</td>\n",
       "      <td>321362</td>\n",
       "    </tr>\n",
       "    <tr>\n",
       "      <th>11</th>\n",
       "      <td>1891</td>\n",
       "      <td>109267</td>\n",
       "      <td>196567</td>\n",
       "      <td>305834</td>\n",
       "    </tr>\n",
       "    <tr>\n",
       "      <th>12</th>\n",
       "      <td>1892</td>\n",
       "      <td>131453</td>\n",
       "      <td>224915</td>\n",
       "      <td>356368</td>\n",
       "    </tr>\n",
       "    <tr>\n",
       "      <th>13</th>\n",
       "      <td>1893</td>\n",
       "      <td>121040</td>\n",
       "      <td>225232</td>\n",
       "      <td>346272</td>\n",
       "    </tr>\n",
       "    <tr>\n",
       "      <th>14</th>\n",
       "      <td>1894</td>\n",
       "      <td>124894</td>\n",
       "      <td>235972</td>\n",
       "      <td>360866</td>\n",
       "    </tr>\n",
       "    <tr>\n",
       "      <th>15</th>\n",
       "      <td>1895</td>\n",
       "      <td>126644</td>\n",
       "      <td>247107</td>\n",
       "      <td>373751</td>\n",
       "    </tr>\n",
       "    <tr>\n",
       "      <th>16</th>\n",
       "      <td>1896</td>\n",
       "      <td>129072</td>\n",
       "      <td>251993</td>\n",
       "      <td>381065</td>\n",
       "    </tr>\n",
       "    <tr>\n",
       "      <th>17</th>\n",
       "      <td>1897</td>\n",
       "      <td>121943</td>\n",
       "      <td>248275</td>\n",
       "      <td>370218</td>\n",
       "    </tr>\n",
       "    <tr>\n",
       "      <th>18</th>\n",
       "      <td>1898</td>\n",
       "      <td>132105</td>\n",
       "      <td>274146</td>\n",
       "      <td>406251</td>\n",
       "    </tr>\n",
       "    <tr>\n",
       "      <th>19</th>\n",
       "      <td>1899</td>\n",
       "      <td>115195</td>\n",
       "      <td>247490</td>\n",
       "      <td>362685</td>\n",
       "    </tr>\n",
       "    <tr>\n",
       "      <th>20</th>\n",
       "      <td>1900</td>\n",
       "      <td>162140</td>\n",
       "      <td>317775</td>\n",
       "      <td>479915</td>\n",
       "    </tr>\n",
       "    <tr>\n",
       "      <th>21</th>\n",
       "      <td>1901</td>\n",
       "      <td>115595</td>\n",
       "      <td>254232</td>\n",
       "      <td>369827</td>\n",
       "    </tr>\n",
       "    <tr>\n",
       "      <th>22</th>\n",
       "      <td>1902</td>\n",
       "      <td>132749</td>\n",
       "      <td>280333</td>\n",
       "      <td>413082</td>\n",
       "    </tr>\n",
       "    <tr>\n",
       "      <th>23</th>\n",
       "      <td>1903</td>\n",
       "      <td>129326</td>\n",
       "      <td>278198</td>\n",
       "      <td>407524</td>\n",
       "    </tr>\n",
       "    <tr>\n",
       "      <th>24</th>\n",
       "      <td>1904</td>\n",
       "      <td>138508</td>\n",
       "      <td>292438</td>\n",
       "      <td>430946</td>\n",
       "    </tr>\n",
       "    <tr>\n",
       "      <th>25</th>\n",
       "      <td>1905</td>\n",
       "      <td>143244</td>\n",
       "      <td>309870</td>\n",
       "      <td>453114</td>\n",
       "    </tr>\n",
       "    <tr>\n",
       "      <th>26</th>\n",
       "      <td>1906</td>\n",
       "      <td>144070</td>\n",
       "      <td>313441</td>\n",
       "      <td>457511</td>\n",
       "    </tr>\n",
       "    <tr>\n",
       "      <th>27</th>\n",
       "      <td>1907</td>\n",
       "      <td>158588</td>\n",
       "      <td>337433</td>\n",
       "      <td>496021</td>\n",
       "    </tr>\n",
       "    <tr>\n",
       "      <th>28</th>\n",
       "      <td>1908</td>\n",
       "      <td>166372</td>\n",
       "      <td>354533</td>\n",
       "      <td>520905</td>\n",
       "    </tr>\n",
       "    <tr>\n",
       "      <th>29</th>\n",
       "      <td>1909</td>\n",
       "      <td>176868</td>\n",
       "      <td>368098</td>\n",
       "      <td>544966</td>\n",
       "    </tr>\n",
       "    <tr>\n",
       "      <th>...</th>\n",
       "      <td>...</td>\n",
       "      <td>...</td>\n",
       "      <td>...</td>\n",
       "      <td>...</td>\n",
       "    </tr>\n",
       "    <tr>\n",
       "      <th>106</th>\n",
       "      <td>1986</td>\n",
       "      <td>1920483</td>\n",
       "      <td>1844734</td>\n",
       "      <td>3765217</td>\n",
       "    </tr>\n",
       "    <tr>\n",
       "      <th>107</th>\n",
       "      <td>1987</td>\n",
       "      <td>1949062</td>\n",
       "      <td>1873574</td>\n",
       "      <td>3822636</td>\n",
       "    </tr>\n",
       "    <tr>\n",
       "      <th>108</th>\n",
       "      <td>1988</td>\n",
       "      <td>2000862</td>\n",
       "      <td>1922263</td>\n",
       "      <td>3923125</td>\n",
       "    </tr>\n",
       "    <tr>\n",
       "      <th>109</th>\n",
       "      <td>1989</td>\n",
       "      <td>2095209</td>\n",
       "      <td>1991787</td>\n",
       "      <td>4086996</td>\n",
       "    </tr>\n",
       "    <tr>\n",
       "      <th>110</th>\n",
       "      <td>1990</td>\n",
       "      <td>2150863</td>\n",
       "      <td>2053702</td>\n",
       "      <td>4204565</td>\n",
       "    </tr>\n",
       "    <tr>\n",
       "      <th>111</th>\n",
       "      <td>1991</td>\n",
       "      <td>2118988</td>\n",
       "      <td>2032978</td>\n",
       "      <td>4151966</td>\n",
       "    </tr>\n",
       "    <tr>\n",
       "      <th>112</th>\n",
       "      <td>1992</td>\n",
       "      <td>2098423</td>\n",
       "      <td>2004166</td>\n",
       "      <td>4102589</td>\n",
       "    </tr>\n",
       "    <tr>\n",
       "      <th>113</th>\n",
       "      <td>1993</td>\n",
       "      <td>2064806</td>\n",
       "      <td>1971029</td>\n",
       "      <td>4035835</td>\n",
       "    </tr>\n",
       "    <tr>\n",
       "      <th>114</th>\n",
       "      <td>1994</td>\n",
       "      <td>2037777</td>\n",
       "      <td>1948875</td>\n",
       "      <td>3986652</td>\n",
       "    </tr>\n",
       "    <tr>\n",
       "      <th>115</th>\n",
       "      <td>1995</td>\n",
       "      <td>2010773</td>\n",
       "      <td>1921035</td>\n",
       "      <td>3931808</td>\n",
       "    </tr>\n",
       "    <tr>\n",
       "      <th>116</th>\n",
       "      <td>1996</td>\n",
       "      <td>2003109</td>\n",
       "      <td>1916678</td>\n",
       "      <td>3919787</td>\n",
       "    </tr>\n",
       "    <tr>\n",
       "      <th>117</th>\n",
       "      <td>1997</td>\n",
       "      <td>1997063</td>\n",
       "      <td>1908561</td>\n",
       "      <td>3905624</td>\n",
       "    </tr>\n",
       "    <tr>\n",
       "      <th>118</th>\n",
       "      <td>1998</td>\n",
       "      <td>2026806</td>\n",
       "      <td>1937701</td>\n",
       "      <td>3964507</td>\n",
       "    </tr>\n",
       "    <tr>\n",
       "      <th>119</th>\n",
       "      <td>1999</td>\n",
       "      <td>2037920</td>\n",
       "      <td>1945832</td>\n",
       "      <td>3983752</td>\n",
       "    </tr>\n",
       "    <tr>\n",
       "      <th>120</th>\n",
       "      <td>2000</td>\n",
       "      <td>2086976</td>\n",
       "      <td>1994461</td>\n",
       "      <td>4081437</td>\n",
       "    </tr>\n",
       "    <tr>\n",
       "      <th>121</th>\n",
       "      <td>2001</td>\n",
       "      <td>2066991</td>\n",
       "      <td>1979571</td>\n",
       "      <td>4046562</td>\n",
       "    </tr>\n",
       "    <tr>\n",
       "      <th>122</th>\n",
       "      <td>2002</td>\n",
       "      <td>2065175</td>\n",
       "      <td>1973556</td>\n",
       "      <td>4038731</td>\n",
       "    </tr>\n",
       "    <tr>\n",
       "      <th>123</th>\n",
       "      <td>2003</td>\n",
       "      <td>2099617</td>\n",
       "      <td>2004932</td>\n",
       "      <td>4104549</td>\n",
       "    </tr>\n",
       "    <tr>\n",
       "      <th>124</th>\n",
       "      <td>2004</td>\n",
       "      <td>2111689</td>\n",
       "      <td>2016063</td>\n",
       "      <td>4127752</td>\n",
       "    </tr>\n",
       "    <tr>\n",
       "      <th>125</th>\n",
       "      <td>2005</td>\n",
       "      <td>2125380</td>\n",
       "      <td>2027508</td>\n",
       "      <td>4152888</td>\n",
       "    </tr>\n",
       "    <tr>\n",
       "      <th>126</th>\n",
       "      <td>2006</td>\n",
       "      <td>2190066</td>\n",
       "      <td>2088261</td>\n",
       "      <td>4278327</td>\n",
       "    </tr>\n",
       "    <tr>\n",
       "      <th>127</th>\n",
       "      <td>2007</td>\n",
       "      <td>2212515</td>\n",
       "      <td>2113906</td>\n",
       "      <td>4326421</td>\n",
       "    </tr>\n",
       "    <tr>\n",
       "      <th>128</th>\n",
       "      <td>2008</td>\n",
       "      <td>2177409</td>\n",
       "      <td>2079948</td>\n",
       "      <td>4257357</td>\n",
       "    </tr>\n",
       "    <tr>\n",
       "      <th>129</th>\n",
       "      <td>2009</td>\n",
       "      <td>2117746</td>\n",
       "      <td>2021799</td>\n",
       "      <td>4139545</td>\n",
       "    </tr>\n",
       "    <tr>\n",
       "      <th>130</th>\n",
       "      <td>2010</td>\n",
       "      <td>2050778</td>\n",
       "      <td>1956853</td>\n",
       "      <td>4007631</td>\n",
       "    </tr>\n",
       "    <tr>\n",
       "      <th>131</th>\n",
       "      <td>2011</td>\n",
       "      <td>2026895</td>\n",
       "      <td>1933342</td>\n",
       "      <td>3960237</td>\n",
       "    </tr>\n",
       "    <tr>\n",
       "      <th>132</th>\n",
       "      <td>2012</td>\n",
       "      <td>2023569</td>\n",
       "      <td>1934051</td>\n",
       "      <td>3957620</td>\n",
       "    </tr>\n",
       "    <tr>\n",
       "      <th>133</th>\n",
       "      <td>2013</td>\n",
       "      <td>2013559</td>\n",
       "      <td>1920953</td>\n",
       "      <td>3934512</td>\n",
       "    </tr>\n",
       "    <tr>\n",
       "      <th>134</th>\n",
       "      <td>2014</td>\n",
       "      <td>2039794</td>\n",
       "      <td>1947553</td>\n",
       "      <td>3987347</td>\n",
       "    </tr>\n",
       "    <tr>\n",
       "      <th>135</th>\n",
       "      <td>2015</td>\n",
       "      <td>2026872</td>\n",
       "      <td>1935109</td>\n",
       "      <td>3961981</td>\n",
       "    </tr>\n",
       "  </tbody>\n",
       "</table>\n",
       "<p>136 rows × 4 columns</p>\n",
       "</div>"
      ],
      "text/plain": [
       "     Year of birth     Male   Female    Total\n",
       "0             1880   118399    97604   216003\n",
       "1             1881   108282    98855   207137\n",
       "2             1882   122031   115696   237727\n",
       "3             1883   112478   120059   232537\n",
       "4             1884   122739   137586   260325\n",
       "5             1885   115946   141949   257895\n",
       "6             1886   119042   153736   272778\n",
       "7             1887   109315   155422   264737\n",
       "8             1888   129905   189447   319352\n",
       "9             1889   119034   189219   308253\n",
       "10            1890   119701   201661   321362\n",
       "11            1891   109267   196567   305834\n",
       "12            1892   131453   224915   356368\n",
       "13            1893   121040   225232   346272\n",
       "14            1894   124894   235972   360866\n",
       "15            1895   126644   247107   373751\n",
       "16            1896   129072   251993   381065\n",
       "17            1897   121943   248275   370218\n",
       "18            1898   132105   274146   406251\n",
       "19            1899   115195   247490   362685\n",
       "20            1900   162140   317775   479915\n",
       "21            1901   115595   254232   369827\n",
       "22            1902   132749   280333   413082\n",
       "23            1903   129326   278198   407524\n",
       "24            1904   138508   292438   430946\n",
       "25            1905   143244   309870   453114\n",
       "26            1906   144070   313441   457511\n",
       "27            1907   158588   337433   496021\n",
       "28            1908   166372   354533   520905\n",
       "29            1909   176868   368098   544966\n",
       "..             ...      ...      ...      ...\n",
       "106           1986  1920483  1844734  3765217\n",
       "107           1987  1949062  1873574  3822636\n",
       "108           1988  2000862  1922263  3923125\n",
       "109           1989  2095209  1991787  4086996\n",
       "110           1990  2150863  2053702  4204565\n",
       "111           1991  2118988  2032978  4151966\n",
       "112           1992  2098423  2004166  4102589\n",
       "113           1993  2064806  1971029  4035835\n",
       "114           1994  2037777  1948875  3986652\n",
       "115           1995  2010773  1921035  3931808\n",
       "116           1996  2003109  1916678  3919787\n",
       "117           1997  1997063  1908561  3905624\n",
       "118           1998  2026806  1937701  3964507\n",
       "119           1999  2037920  1945832  3983752\n",
       "120           2000  2086976  1994461  4081437\n",
       "121           2001  2066991  1979571  4046562\n",
       "122           2002  2065175  1973556  4038731\n",
       "123           2003  2099617  2004932  4104549\n",
       "124           2004  2111689  2016063  4127752\n",
       "125           2005  2125380  2027508  4152888\n",
       "126           2006  2190066  2088261  4278327\n",
       "127           2007  2212515  2113906  4326421\n",
       "128           2008  2177409  2079948  4257357\n",
       "129           2009  2117746  2021799  4139545\n",
       "130           2010  2050778  1956853  4007631\n",
       "131           2011  2026895  1933342  3960237\n",
       "132           2012  2023569  1934051  3957620\n",
       "133           2013  2013559  1920953  3934512\n",
       "134           2014  2039794  1947553  3987347\n",
       "135           2015  2026872  1935109  3961981\n",
       "\n",
       "[136 rows x 4 columns]"
      ]
     },
     "execution_count": 3,
     "metadata": {},
     "output_type": "execute_result"
    }
   ],
   "source": [
    "df"
   ]
  },
  {
   "cell_type": "code",
   "execution_count": 4,
   "metadata": {
    "collapsed": false,
    "scrolled": false
   },
   "outputs": [
    {
     "data": {
      "image/png": "[encoded data removed]",
      "text/plain": [
       "<matplotlib.figure.Figure at 0xa8c37b8>"
      ]
     },
     "metadata": {},
     "output_type": "display_data"
    }
   ],
   "source": [
    "#plot male and female births for the years covered in the data\n",
    "plt.plot(df['Year of birth'], df['Male'], c = 'b', label = 'Male')\n",
    "plt.plot(df['Year of birth'], df['Female'],c = 'r', label = 'Female')\n",
    "plt.legend(loc = 'upper left')\n",
    "#plt.axis([1880, 2015, 0, 2500000])\n",
    "plt.xlabel('Year of birth')\n",
    "plt.ylabel('No. of births')\n",
    "plt.title('Total births by Sex and Year')\n",
    "#double the size of plot for visibility\n",
    "size = 2\n",
    "params = plt.gcf()\n",
    "plSize = params.get_size_inches()\n",
    "params.set_size_inches((plSize[0]*size, plSize[1]*size))\n",
    "plt.show()"
   ]
  },
  {
   "cell_type": "markdown",
   "metadata": {
    "collapsed": false,
    "scrolled": true
   },
   "source": [
    "#plot xkcd style :)\n",
    "#with plt.xkcd():\n",
    "    #plt.plot(df['Year of birth'], df['Male'], c = 'b', label = 'Male')\n",
    "    #plt.plot(df['Year of birth'], df['Female'],c = 'r', label = 'Female')\n",
    "    #plt.legend(loc = 'upper left')\n",
    "    #plt.xlim(xmax = 2015)\n",
    "    #plt.xlabel('Year of birth')\n",
    "    #plt.ylabel('No. of births')\n",
    "    #plt.title('Male and Female births from 1880 to 2015')\n",
    "    #plt.show()"
   ]
  },
  {
   "cell_type": "markdown",
   "metadata": {},
   "source": [
    "In the same notebook, use Python to get a list of male and female names from these files. This data is broken down by year of birth.\n",
    "<br>The files contain names data of the years from **1881 to 2010**.\n",
    "<br>Aggregating this data in **\"names\"** dataframe below."
   ]
  },
  {
   "cell_type": "code",
   "execution_count": 5,
   "metadata": {
    "collapsed": false
   },
   "outputs": [],
   "source": [
    "years = range(1881,2011)\n",
    "pieces = []\n",
    "columns = ['name','sex','births']\n",
    "    \n",
    "for year in years:\n",
    "    path = 'names/yob{0:d}.txt'.format(year)\n",
    "    frame = pd.read_csv(path,names=columns)\n",
    "    frame['year'] = year\n",
    "    pieces.append(frame)    \n",
    "    \n",
    "names = pd.concat(pieces, ignore_index=True)"
   ]
  },
  {
   "cell_type": "code",
   "execution_count": 6,
   "metadata": {
    "collapsed": false,
    "scrolled": true
   },
   "outputs": [
    {
     "data": {
      "text/html": [
       "<div>\n",
       "<table border=\"1\" class=\"dataframe\">\n",
       "  <thead>\n",
       "    <tr style=\"text-align: right;\">\n",
       "      <th></th>\n",
       "      <th>name</th>\n",
       "      <th>sex</th>\n",
       "      <th>births</th>\n",
       "      <th>year</th>\n",
       "    </tr>\n",
       "  </thead>\n",
       "  <tbody>\n",
       "    <tr>\n",
       "      <th>0</th>\n",
       "      <td>Mary</td>\n",
       "      <td>F</td>\n",
       "      <td>6919</td>\n",
       "      <td>1881</td>\n",
       "    </tr>\n",
       "    <tr>\n",
       "      <th>1</th>\n",
       "      <td>Anna</td>\n",
       "      <td>F</td>\n",
       "      <td>2698</td>\n",
       "      <td>1881</td>\n",
       "    </tr>\n",
       "    <tr>\n",
       "      <th>2</th>\n",
       "      <td>Emma</td>\n",
       "      <td>F</td>\n",
       "      <td>2034</td>\n",
       "      <td>1881</td>\n",
       "    </tr>\n",
       "    <tr>\n",
       "      <th>3</th>\n",
       "      <td>Elizabeth</td>\n",
       "      <td>F</td>\n",
       "      <td>1852</td>\n",
       "      <td>1881</td>\n",
       "    </tr>\n",
       "    <tr>\n",
       "      <th>4</th>\n",
       "      <td>Margaret</td>\n",
       "      <td>F</td>\n",
       "      <td>1658</td>\n",
       "      <td>1881</td>\n",
       "    </tr>\n",
       "  </tbody>\n",
       "</table>\n",
       "</div>"
      ],
      "text/plain": [
       "        name sex  births  year\n",
       "0       Mary   F    6919  1881\n",
       "1       Anna   F    2698  1881\n",
       "2       Emma   F    2034  1881\n",
       "3  Elizabeth   F    1852  1881\n",
       "4   Margaret   F    1658  1881"
      ]
     },
     "execution_count": 6,
     "metadata": {},
     "output_type": "execute_result"
    }
   ],
   "source": [
    "names.head()"
   ]
  },
  {
   "cell_type": "code",
   "execution_count": 7,
   "metadata": {
    "collapsed": false,
    "scrolled": false
   },
   "outputs": [
    {
     "data": {
      "text/html": [
       "<div>\n",
       "<table border=\"1\" class=\"dataframe\">\n",
       "  <thead>\n",
       "    <tr style=\"text-align: right;\">\n",
       "      <th></th>\n",
       "      <th>name</th>\n",
       "      <th>sex</th>\n",
       "      <th>births</th>\n",
       "      <th>year</th>\n",
       "    </tr>\n",
       "  </thead>\n",
       "  <tbody>\n",
       "    <tr>\n",
       "      <th>1688779</th>\n",
       "      <td>Zymaire</td>\n",
       "      <td>M</td>\n",
       "      <td>5</td>\n",
       "      <td>2010</td>\n",
       "    </tr>\n",
       "    <tr>\n",
       "      <th>1688780</th>\n",
       "      <td>Zyonne</td>\n",
       "      <td>M</td>\n",
       "      <td>5</td>\n",
       "      <td>2010</td>\n",
       "    </tr>\n",
       "    <tr>\n",
       "      <th>1688781</th>\n",
       "      <td>Zyquarius</td>\n",
       "      <td>M</td>\n",
       "      <td>5</td>\n",
       "      <td>2010</td>\n",
       "    </tr>\n",
       "    <tr>\n",
       "      <th>1688782</th>\n",
       "      <td>Zyran</td>\n",
       "      <td>M</td>\n",
       "      <td>5</td>\n",
       "      <td>2010</td>\n",
       "    </tr>\n",
       "    <tr>\n",
       "      <th>1688783</th>\n",
       "      <td>Zzyzx</td>\n",
       "      <td>M</td>\n",
       "      <td>5</td>\n",
       "      <td>2010</td>\n",
       "    </tr>\n",
       "  </tbody>\n",
       "</table>\n",
       "</div>"
      ],
      "text/plain": [
       "              name sex  births  year\n",
       "1688779    Zymaire   M       5  2010\n",
       "1688780     Zyonne   M       5  2010\n",
       "1688781  Zyquarius   M       5  2010\n",
       "1688782      Zyran   M       5  2010\n",
       "1688783      Zzyzx   M       5  2010"
      ]
     },
     "execution_count": 7,
     "metadata": {},
     "output_type": "execute_result"
    }
   ],
   "source": [
    "names.tail()"
   ]
  },
  {
   "cell_type": "markdown",
   "metadata": {},
   "source": [
    "**Part Two:** Aggregate the data for all years (see the examples in the Pandas notebooks). Use Python Counters to get letter frequencies for male and female names. Use matplotlib to draw a plot that for each letter (x-axis) shows the frequency of that letter (y-axis) as the last letter for both for male and female names."
   ]
  },
  {
   "cell_type": "markdown",
   "metadata": {},
   "source": [
    "The data is already agregated in \"names\" dataframe.\n",
    "<br>Getting separate dataframes for Males and Females.\n",
    "<br>Defining a List for male and female names."
   ]
  },
  {
   "cell_type": "code",
   "execution_count": 8,
   "metadata": {
    "collapsed": false
   },
   "outputs": [
    {
     "name": "stdout",
     "output_type": "stream",
     "text": [
      "For Female names\n",
      "        name sex  births  year\n",
      "0       Mary   F    6919  1881\n",
      "1       Anna   F    2698  1881\n",
      "2       Emma   F    2034  1881\n",
      "3  Elizabeth   F    1852  1881\n",
      "4   Margaret   F    1658  1881\n",
      "\n",
      "For Male names\n",
      "              name sex  births  year\n",
      "1688779    Zymaire   M       5  2010\n",
      "1688780     Zyonne   M       5  2010\n",
      "1688781  Zyquarius   M       5  2010\n",
      "1688782      Zyran   M       5  2010\n",
      "1688783      Zzyzx   M       5  2010\n"
     ]
    }
   ],
   "source": [
    "female_names = names[names.sex == 'F']\n",
    "male_names = names[names.sex == 'M']\n",
    "print \"For Female names\"\n",
    "print female_names.head()\n",
    "print \"\\nFor Male names\"\n",
    "print male_names.tail()\n",
    "\n",
    "female_list = list(female_names['name'])\n",
    "male_list = list(male_names['name'])"
   ]
  },
  {
   "cell_type": "markdown",
   "metadata": {},
   "source": [
    "Calculating the letter frequency for male names."
   ]
  },
  {
   "cell_type": "code",
   "execution_count": 9,
   "metadata": {
    "collapsed": false
   },
   "outputs": [
    {
     "data": {
      "text/plain": [
       "Counter({'a': 473311,\n",
       "         'b': 68392,\n",
       "         'c': 113693,\n",
       "         'd': 174305,\n",
       "         'e': 461160,\n",
       "         'f': 35285,\n",
       "         'g': 54872,\n",
       "         'h': 127314,\n",
       "         'i': 294758,\n",
       "         'j': 64378,\n",
       "         'k': 75215,\n",
       "         'l': 288703,\n",
       "         'm': 134677,\n",
       "         'n': 367462,\n",
       "         'o': 286286,\n",
       "         'p': 31022,\n",
       "         'q': 10758,\n",
       "         'r': 358075,\n",
       "         's': 181320,\n",
       "         't': 164948,\n",
       "         'u': 99128,\n",
       "         'v': 59996,\n",
       "         'w': 38851,\n",
       "         'x': 7561,\n",
       "         'y': 114680,\n",
       "         'z': 23641})"
      ]
     },
     "execution_count": 9,
     "metadata": {},
     "output_type": "execute_result"
    }
   ],
   "source": [
    "male_letter_freq = Counter()\n",
    "#converting every letter to lowercase\n",
    "for name in map(lambda x:x.lower(),male_names['name']):\n",
    "    for i in name:\n",
    "        male_letter_freq[i] += 1\n",
    "male_letter_freq"
   ]
  },
  {
   "cell_type": "markdown",
   "metadata": {},
   "source": [
    "Calculating the letter frequency for female names."
   ]
  },
  {
   "cell_type": "code",
   "execution_count": 10,
   "metadata": {
    "collapsed": false,
    "scrolled": false
   },
   "outputs": [
    {
     "data": {
      "text/plain": [
       "Counter({'a': 1106691,\n",
       "         'b': 73211,\n",
       "         'c': 153819,\n",
       "         'd': 184736,\n",
       "         'e': 808732,\n",
       "         'f': 28774,\n",
       "         'g': 62188,\n",
       "         'h': 219581,\n",
       "         'i': 558570,\n",
       "         'j': 82958,\n",
       "         'k': 111843,\n",
       "         'l': 499178,\n",
       "         'm': 188030,\n",
       "         'n': 586892,\n",
       "         'o': 208432,\n",
       "         'p': 31781,\n",
       "         'q': 12479,\n",
       "         'r': 418955,\n",
       "         's': 271518,\n",
       "         't': 267157,\n",
       "         'u': 86084,\n",
       "         'v': 66889,\n",
       "         'w': 23138,\n",
       "         'x': 7608,\n",
       "         'y': 221353,\n",
       "         'z': 35572})"
      ]
     },
     "execution_count": 10,
     "metadata": {},
     "output_type": "execute_result"
    }
   ],
   "source": [
    "female_letter_freq = Counter()\n",
    "#converting every letter to lowercase\n",
    "for name in map(lambda x:x.lower(),female_names['name']):\n",
    "    for i in name:\n",
    "        female_letter_freq[i] += 1\n",
    "female_letter_freq"
   ]
  },
  {
   "cell_type": "markdown",
   "metadata": {},
   "source": [
    "Calculating the last letter frequency for male names."
   ]
  },
  {
   "cell_type": "code",
   "execution_count": 11,
   "metadata": {
    "collapsed": false,
    "scrolled": false
   },
   "outputs": [
    {
     "data": {
      "text/plain": [
       "Counter({'a': 24564,\n",
       "         'b': 3222,\n",
       "         'c': 5033,\n",
       "         'd': 36761,\n",
       "         'e': 89489,\n",
       "         'f': 3042,\n",
       "         'g': 5071,\n",
       "         'h': 17462,\n",
       "         'i': 17253,\n",
       "         'j': 1200,\n",
       "         'k': 13634,\n",
       "         'l': 59630,\n",
       "         'm': 12404,\n",
       "         'n': 162164,\n",
       "         'o': 54056,\n",
       "         'p': 1941,\n",
       "         'q': 500,\n",
       "         'r': 39092,\n",
       "         's': 51797,\n",
       "         't': 21226,\n",
       "         'u': 2657,\n",
       "         'v': 1379,\n",
       "         'w': 2230,\n",
       "         'x': 1920,\n",
       "         'y': 53839,\n",
       "         'z': 4175})"
      ]
     },
     "execution_count": 11,
     "metadata": {},
     "output_type": "execute_result"
    }
   ],
   "source": [
    "male_last_letter_freq = Counter()\n",
    "for name in male_names['name']:\n",
    "    male_last_letter_freq[name[-1]] += 1\n",
    "male_last_letter_freq"
   ]
  },
  {
   "cell_type": "markdown",
   "metadata": {},
   "source": [
    "Calculating the last letter frequency for female names."
   ]
  },
  {
   "cell_type": "code",
   "execution_count": 12,
   "metadata": {
    "collapsed": false
   },
   "outputs": [
    {
     "data": {
      "text/plain": [
       "Counter({'a': 422651,\n",
       "         'b': 441,\n",
       "         'c': 760,\n",
       "         'd': 6464,\n",
       "         'e': 226254,\n",
       "         'f': 125,\n",
       "         'g': 1735,\n",
       "         'h': 38365,\n",
       "         'i': 44042,\n",
       "         'j': 157,\n",
       "         'k': 1548,\n",
       "         'l': 35834,\n",
       "         'm': 3610,\n",
       "         'n': 101182,\n",
       "         'o': 8316,\n",
       "         'p': 355,\n",
       "         'q': 24,\n",
       "         'r': 14056,\n",
       "         's': 19402,\n",
       "         't': 10528,\n",
       "         'u': 2019,\n",
       "         'v': 107,\n",
       "         'w': 640,\n",
       "         'x': 843,\n",
       "         'y': 61742,\n",
       "         'z': 1843})"
      ]
     },
     "execution_count": 12,
     "metadata": {},
     "output_type": "execute_result"
    }
   ],
   "source": [
    "female_last_letter_freq = Counter()\n",
    "for name in female_names['name']:\n",
    "    female_last_letter_freq[name[-1]] += 1\n",
    "female_last_letter_freq"
   ]
  },
  {
   "cell_type": "markdown",
   "metadata": {},
   "source": [
    "Plot for each letter showing the frequency of that letter as the last letter for both for male and female names.\n",
    "<br>I use the OrderedDict function from collections here to arrange the letters present in counter in acsending order for plotting."
   ]
  },
  {
   "cell_type": "code",
   "execution_count": 13,
   "metadata": {
    "collapsed": false
   },
   "outputs": [
    {
     "data": {
      "image/png": "[encoded data removed]",
      "text/plain": [
       "<matplotlib.figure.Figure at 0x12345c88>"
      ]
     },
     "metadata": {},
     "output_type": "display_data"
    },
    {
     "data": {
      "image/png": "[encoded data removed]",
      "text/plain": [
       "<matplotlib.figure.Figure at 0xe7513c8>"
      ]
     },
     "metadata": {},
     "output_type": "display_data"
    },
    {
     "data": {
      "image/png": "[encoded data removed]",
      "text/plain": [
       "<matplotlib.figure.Figure at 0x14513ef0>"
      ]
     },
     "metadata": {},
     "output_type": "display_data"
    }
   ],
   "source": [
    "#for ordering items of counter in ascending order\n",
    "from collections import OrderedDict\n",
    "#plot of last letter frequency of male names in ascending order of letters\n",
    "male_last_letter_freq_asc = OrderedDict(sorted(male_last_letter_freq.items()))\n",
    "plt.bar(range(len(male_last_letter_freq_asc)), male_last_letter_freq_asc.values(), align='center')\n",
    "plt.xticks(range(len(male_last_letter_freq_asc)), male_last_letter_freq_asc.keys())\n",
    "plt.xlabel('Letters')\n",
    "plt.ylabel('Frequency')\n",
    "plt.title('Frequency of last letter for Male names')\n",
    "plt.show()\n",
    "\n",
    "#plot of last letter frequency of female names in ascending order of letters\n",
    "female_last_letter_freq_asc = OrderedDict(sorted(female_last_letter_freq.items()))\n",
    "plt.bar(range(len(female_last_letter_freq_asc)), female_last_letter_freq_asc.values(), align='center')\n",
    "plt.xticks(range(len(female_last_letter_freq_asc)), female_last_letter_freq_asc.keys())\n",
    "plt.xlabel('Letters')\n",
    "plt.ylabel('Frequency')\n",
    "plt.title('Frequency of last letter for Female names')\n",
    "plt.show()\n",
    "\n",
    "female_last_letter_freq_asc = OrderedDict(sorted(female_last_letter_freq.items()))\n",
    "plt.plot(range(len(female_last_letter_freq_asc)), female_last_letter_freq_asc.values(), c = 'r', label = 'Female')\n",
    "plt.plot(range(len(male_last_letter_freq_asc)), male_last_letter_freq_asc.values(), c = 'b', label = 'Male')\n",
    "plt.xticks(range(len(male_last_letter_freq_asc)), male_last_letter_freq_asc.keys())\n",
    "plt.xlabel('Letters')\n",
    "plt.ylabel('Frequency')\n",
    "plt.legend(loc = 'upper right')\n",
    "plt.title('Frequency of last letter in names by Sex')\n",
    "#double the size of plot for visibility\n",
    "size = 2\n",
    "params = plt.gcf()\n",
    "plSize = params.get_size_inches()\n",
    "params.set_size_inches((plSize[0]*size, plSize[1]*size))\n",
    "plt.show()\n",
    "\n"
   ]
  },
  {
   "cell_type": "markdown",
   "metadata": {},
   "source": [
    "**Part Three:** Now do just female names, but aggregate your data in decades (10 year) increments. Produce a plot that contains the 1880s line, the 1940s line, and the 1990s line, as well as the female line for all years aggregated together from Part Two. Evaluate how stable this statistic is. Speculate on why it is is stable, if it is, or on what demographic facts might explain any changes, if there are any. Turn in your ipython notebook file, showing the code you used to complete parts One, Two, an Three."
   ]
  },
  {
   "cell_type": "code",
   "execution_count": 18,
   "metadata": {
    "collapsed": false
   },
   "outputs": [
    {
     "name": "stdout",
     "output_type": "stream",
     "text": [
      "        name sex  births  year\n",
      "0       Mary   F    6919  1881\n",
      "1       Anna   F    2698  1881\n",
      "2       Emma   F    2034  1881\n",
      "3  Elizabeth   F    1852  1881\n",
      "4   Margaret   F    1658  1881\n",
      "         name sex  births  year\n",
      "19627  Wessie   F       5  1889\n",
      "19628   Zepha   F       5  1889\n",
      "19629  Zilpha   F       5  1889\n",
      "19630  Zulema   F       5  1889\n",
      "19631    Zuma   F       5  1889\n"
     ]
    }
   ],
   "source": [
    "#to get the decade lists\n",
    "#female_1880 = female_names[female_names['year'] < 1890]\n",
    "#female_1890 = female_names[(female_names['year'] >= 1890) & (female_names['year'] < 1900)]\n",
    "#female_1900 = female_names[(female_names['year'] >= 1900) & (female_names['year'] < 1910)]\n",
    "#female_1910 = female_names[(female_names['year'] >= 1910) & (female_names['year'] < 1920)]\n",
    "#female_1920 = female_names[(female_names['year'] >= 1920) & (female_names['year'] < 1930)]\n",
    "#female_1930 = female_names[(female_names['year'] >= 1930) & (female_names['year'] < 1940)]\n",
    "#female_1940 = female_names[(female_names['year'] >= 1940) & (female_names['year'] < 1950)]\n",
    "#female_1950 = female_names[(female_names['year'] >= 1950) & (female_names['year'] < 1960)]\n",
    "#female_1960 = female_names[(female_names['year'] >= 1960) & (female_names['year'] < 1970)]\n",
    "#female_1970 = female_names[(female_names['year'] >= 1970) & (female_names['year'] < 1980)]\n",
    "#female_1980 = female_names[(female_names['year'] >= 1980) & (female_names['year'] < 1990)]\n",
    "#female_1990 = female_names[(female_names['year'] >= 1990) & (female_names['year'] < 2000)]\n",
    "#female_2000 = female_names[(female_names['year'] >= 2000) & (female_names['year'] < 2010)]\n",
    "#female_2010 = female_names[female_names['year'] >= 2010]\n",
    "\n",
    "#another earier way to get the decade lists for females\n",
    "female_1880 = female_names[female_names.year.isin(range(1880,1890))]\n",
    "female_1890 = female_names[female_names.year.isin(range(1890,1900))]\n",
    "female_1900 = female_names[female_names.year.isin(range(1900,1910))]\n",
    "female_1910 = female_names[female_names.year.isin(range(1910,1920))]\n",
    "female_1920 = female_names[female_names.year.isin(range(1920,1930))]\n",
    "female_1930 = female_names[female_names.year.isin(range(1930,1940))]\n",
    "female_1940 = female_names[female_names.year.isin(range(1940,1950))]\n",
    "female_1950 = female_names[female_names.year.isin(range(1950,1960))]\n",
    "female_1960 = female_names[female_names.year.isin(range(1960,1970))]\n",
    "female_1970 = female_names[female_names.year.isin(range(1970,1980))]\n",
    "female_1980 = female_names[female_names.year.isin(range(1980,1990))]\n",
    "female_1990 = female_names[female_names.year.isin(range(1990,2000))]\n",
    "female_2000 = female_names[female_names.year.isin(range(2000,2010))]\n",
    "female_2010 = female_names[female_names.year.isin(range(2010,2011))] #just the year 2010 present\n",
    "\n",
    "#to verify sorting of data\n",
    "print female_1880.head()\n",
    "print female_1880.tail()\n"
   ]
  },
  {
   "cell_type": "markdown",
   "metadata": {
    "collapsed": false
   },
   "source": [
    "Preparing data for the 1880s.\n",
    "<br>A counter for last letter frequencies."
   ]
  },
  {
   "cell_type": "code",
   "execution_count": 19,
   "metadata": {
    "collapsed": false
   },
   "outputs": [
    {
     "data": {
      "text/plain": [
       "Counter({'a': 4718,\n",
       "         'c': 2,\n",
       "         'd': 111,\n",
       "         'e': 3854,\n",
       "         'g': 15,\n",
       "         'h': 307,\n",
       "         'i': 24,\n",
       "         'k': 12,\n",
       "         'l': 324,\n",
       "         'm': 29,\n",
       "         'n': 329,\n",
       "         'o': 54,\n",
       "         'r': 176,\n",
       "         's': 220,\n",
       "         't': 132,\n",
       "         'u': 22,\n",
       "         'w': 2,\n",
       "         'x': 1,\n",
       "         'y': 586,\n",
       "         'z': 12})"
      ]
     },
     "execution_count": 19,
     "metadata": {},
     "output_type": "execute_result"
    }
   ],
   "source": [
    "female_1880_freq = Counter()\n",
    "for name in female_1880['name']:\n",
    "    female_1880_freq[name[-1]] += 1\n",
    "female_1880_freq"
   ]
  },
  {
   "cell_type": "markdown",
   "metadata": {},
   "source": [
    "Preparing data for the 1940s.\n",
    "<br>A counter for last letter frequencies."
   ]
  },
  {
   "cell_type": "code",
   "execution_count": 20,
   "metadata": {
    "collapsed": false
   },
   "outputs": [
    {
     "data": {
      "text/plain": [
       "Counter({'a': 20207,\n",
       "         'b': 18,\n",
       "         'c': 14,\n",
       "         'd': 486,\n",
       "         'e': 16640,\n",
       "         'g': 85,\n",
       "         'h': 928,\n",
       "         'i': 1308,\n",
       "         'k': 66,\n",
       "         'l': 2580,\n",
       "         'm': 135,\n",
       "         'n': 6135,\n",
       "         'o': 333,\n",
       "         'p': 19,\n",
       "         'r': 719,\n",
       "         's': 1470,\n",
       "         't': 629,\n",
       "         'u': 120,\n",
       "         'v': 10,\n",
       "         'w': 31,\n",
       "         'x': 44,\n",
       "         'y': 3178,\n",
       "         'z': 75})"
      ]
     },
     "execution_count": 20,
     "metadata": {},
     "output_type": "execute_result"
    }
   ],
   "source": [
    "female_1940_freq = Counter()\n",
    "for name in female_1940['name']:\n",
    "    female_1940_freq[name[-1]] += 1\n",
    "female_1940_freq"
   ]
  },
  {
   "cell_type": "markdown",
   "metadata": {},
   "source": [
    "Preparing data for the 1990s.\n",
    "<br>A counter for last letter frequencies."
   ]
  },
  {
   "cell_type": "code",
   "execution_count": 21,
   "metadata": {
    "collapsed": false
   },
   "outputs": [
    {
     "data": {
      "text/plain": [
       "Counter({'a': 71322,\n",
       "         'b': 105,\n",
       "         'c': 159,\n",
       "         'd': 663,\n",
       "         'e': 28064,\n",
       "         'f': 28,\n",
       "         'g': 331,\n",
       "         'h': 7263,\n",
       "         'i': 8893,\n",
       "         'j': 55,\n",
       "         'k': 233,\n",
       "         'l': 4734,\n",
       "         'm': 672,\n",
       "         'n': 17677,\n",
       "         'o': 1083,\n",
       "         'p': 100,\n",
       "         'q': 2,\n",
       "         'r': 2218,\n",
       "         's': 2434,\n",
       "         't': 1454,\n",
       "         'u': 349,\n",
       "         'v': 19,\n",
       "         'w': 93,\n",
       "         'x': 157,\n",
       "         'y': 10689,\n",
       "         'z': 348})"
      ]
     },
     "execution_count": 21,
     "metadata": {},
     "output_type": "execute_result"
    }
   ],
   "source": [
    "female_1990_freq = Counter()\n",
    "for name in female_1990['name']:\n",
    "    female_1990_freq[name[-1]] += 1\n",
    "female_1990_freq"
   ]
  },
  {
   "cell_type": "markdown",
   "metadata": {},
   "source": [
    "Converting the frequency data from counter to dataframes after sorting the letters alphabetically."
   ]
  },
  {
   "cell_type": "code",
   "execution_count": 22,
   "metadata": {
    "collapsed": false,
    "scrolled": true
   },
   "outputs": [
    {
     "name": "stdout",
     "output_type": "stream",
     "text": [
      "  letter  frequency decade\n",
      "0      a       4718  1880s\n",
      "1      c          2  1880s\n",
      "2      d        111  1880s\n",
      "3      e       3854  1880s\n",
      "4      g         15  1880s\n",
      "  letter  frequency decade\n",
      "0      a      20207  1940s\n",
      "1      b         18  1940s\n",
      "2      c         14  1940s\n",
      "3      d        486  1940s\n",
      "4      e      16640  1940s\n",
      "  letter  frequency decade\n",
      "0      a      71322  1990s\n",
      "1      b        105  1990s\n",
      "2      c        159  1990s\n",
      "3      d        663  1990s\n",
      "4      e      28064  1990s\n"
     ]
    }
   ],
   "source": [
    "#for 1880s\n",
    "first = pd.DataFrame.from_dict((OrderedDict(sorted(female_1880_freq.items()))), orient = 'index').reset_index()\n",
    "first.columns = ['letter','frequency']\n",
    "first['decade'] = '1880s'\n",
    "print first.head()\n",
    "\n",
    "#for 1940s\n",
    "second = pd.DataFrame.from_dict((OrderedDict(sorted(female_1940_freq.items()))), orient = 'index').reset_index()\n",
    "second.columns = ['letter','frequency']\n",
    "second['decade'] = '1940s'\n",
    "print second.head()\n",
    "\n",
    "#for 1990s\n",
    "third = pd.DataFrame.from_dict((OrderedDict(sorted(female_1990_freq.items()))), orient = 'index').reset_index()\n",
    "third.columns = ['letter','frequency']\n",
    "third['decade'] = '1990s'\n",
    "print third.head()"
   ]
  },
  {
   "cell_type": "markdown",
   "metadata": {},
   "source": [
    "Aggregating all required decades (1880s, 1940s, 1990s) into a single dataframe and then into a pivot table for ease in plotting graphs."
   ]
  },
  {
   "cell_type": "code",
   "execution_count": 23,
   "metadata": {
    "collapsed": false,
    "scrolled": false
   },
   "outputs": [
    {
     "name": "stdout",
     "output_type": "stream",
     "text": [
      "  letter  frequency decade\n",
      "0      a       4718  1880s\n",
      "1      c          2  1880s\n",
      "2      d        111  1880s\n",
      "3      e       3854  1880s\n",
      "4      g         15  1880s\n",
      "   letter  frequency decade\n",
      "21      v         19  1990s\n",
      "22      w         93  1990s\n",
      "23      x        157  1990s\n",
      "24      y      10689  1990s\n",
      "25      z        348  1990s\n"
     ]
    },
    {
     "data": {
      "text/html": [
       "<div>\n",
       "<table border=\"1\" class=\"dataframe\">\n",
       "  <thead>\n",
       "    <tr>\n",
       "      <th></th>\n",
       "      <th colspan=\"3\" halign=\"left\">frequency</th>\n",
       "    </tr>\n",
       "    <tr>\n",
       "      <th>decade</th>\n",
       "      <th>1880s</th>\n",
       "      <th>1940s</th>\n",
       "      <th>1990s</th>\n",
       "    </tr>\n",
       "    <tr>\n",
       "      <th>letter</th>\n",
       "      <th></th>\n",
       "      <th></th>\n",
       "      <th></th>\n",
       "    </tr>\n",
       "  </thead>\n",
       "  <tbody>\n",
       "    <tr>\n",
       "      <th>a</th>\n",
       "      <td>4718.0</td>\n",
       "      <td>20207.0</td>\n",
       "      <td>71322.0</td>\n",
       "    </tr>\n",
       "    <tr>\n",
       "      <th>b</th>\n",
       "      <td>NaN</td>\n",
       "      <td>18.0</td>\n",
       "      <td>105.0</td>\n",
       "    </tr>\n",
       "    <tr>\n",
       "      <th>c</th>\n",
       "      <td>2.0</td>\n",
       "      <td>14.0</td>\n",
       "      <td>159.0</td>\n",
       "    </tr>\n",
       "    <tr>\n",
       "      <th>d</th>\n",
       "      <td>111.0</td>\n",
       "      <td>486.0</td>\n",
       "      <td>663.0</td>\n",
       "    </tr>\n",
       "    <tr>\n",
       "      <th>e</th>\n",
       "      <td>3854.0</td>\n",
       "      <td>16640.0</td>\n",
       "      <td>28064.0</td>\n",
       "    </tr>\n",
       "  </tbody>\n",
       "</table>\n",
       "</div>"
      ],
      "text/plain": [
       "       frequency                  \n",
       "decade     1880s    1940s    1990s\n",
       "letter                            \n",
       "a         4718.0  20207.0  71322.0\n",
       "b            NaN     18.0    105.0\n",
       "c            2.0     14.0    159.0\n",
       "d          111.0    486.0    663.0\n",
       "e         3854.0  16640.0  28064.0"
      ]
     },
     "execution_count": 23,
     "metadata": {},
     "output_type": "execute_result"
    }
   ],
   "source": [
    "#Aggregate 1880s, 1940s and 1990s frequencies\n",
    "frames = [first, second, third]\n",
    "columns = [\"letter\",\"frequency\", \"decade\"]\n",
    "\n",
    "req_decades = pd.DataFrame(pd.concat(frames))\n",
    "req_decades.columns = columns\n",
    "print req_decades.head()\n",
    "print req_decades.tail()\n",
    "\n",
    "#Get data into a pivot table for ease in plotting\n",
    "decades_table = pd.pivot_table(req_decades, index=['letter'], values=['frequency'], columns=['decade'])\n",
    "decades_table.head()"
   ]
  },
  {
   "cell_type": "markdown",
   "metadata": {},
   "source": [
    "Plot of last letter of females for 1880s , 1940s, 1990s, and for all years (from part 2)."
   ]
  },
  {
   "cell_type": "code",
   "execution_count": 24,
   "metadata": {
    "collapsed": false
   },
   "outputs": [
    {
     "data": {
      "image/png": "[encoded data removed]",
      "text/plain": [
       "<matplotlib.figure.Figure at 0x13d755f8>"
      ]
     },
     "metadata": {},
     "output_type": "display_data"
    }
   ],
   "source": [
    "#plot the decades as bars and the female line for all years as a line\n",
    "c = ['m','g','c']\n",
    "decades_table['frequency'].plot(kind = 'bar', rot = 0,color = c, title = 'Frequency of Last letter of Female names by Female Births')\n",
    "#the female line for all years taken from part 2\n",
    "plt.plot(range(len(female_last_letter_freq_asc)), female_last_letter_freq_asc.values(), c = 'r', label = 'All Female births')\n",
    "plt.xlabel('Letters')\n",
    "plt.ylabel('Frequency')\n",
    "plt.legend(loc = 'best')\n",
    "#double the size of plot for visibility\n",
    "size = 2\n",
    "params = plt.gcf()\n",
    "plSize = params.get_size_inches()\n",
    "params.set_size_inches((plSize[0]*size, plSize[1]*size))\n",
    "plt.show()"
   ]
  },
  {
   "cell_type": "markdown",
   "metadata": {},
   "source": [
    "The graph has extreme variations in highs and lows.\n",
    "<br>Plotting the logarithmic scale of frequencies takes care of this and makes it easier for comparison."
   ]
  },
  {
   "cell_type": "code",
   "execution_count": 25,
   "metadata": {
    "collapsed": false
   },
   "outputs": [
    {
     "data": {
      "image/png": "[encoded data removed]",
      "text/plain": [
       "<matplotlib.figure.Figure at 0x15163c18>"
      ]
     },
     "metadata": {},
     "output_type": "display_data"
    }
   ],
   "source": [
    "#plot the decades as bars and the female line for all years as a line\n",
    "c = ['m','g','c']\n",
    "decades_table['frequency'].plot(kind = 'bar', rot = 0, logy = 'True',color = c, title = 'Log(Frequency) of Last letter of Female names by Female Births')\n",
    "#the female line for all years taken from part 2\n",
    "plt.plot(range(len(female_last_letter_freq_asc)), female_last_letter_freq_asc.values(), c = 'r', label = 'All Female births')\n",
    "plt.xlabel('Letters')\n",
    "plt.ylabel('Log(Frequency)')\n",
    "plt.legend(loc = 'best')\n",
    "#double the size of plot for visibility\n",
    "size = 2\n",
    "params = plt.gcf()\n",
    "plSize = params.get_size_inches()\n",
    "params.set_size_inches((plSize[0]*size, plSize[1]*size))\n",
    "plt.show()"
   ]
  },
  {
   "cell_type": "markdown",
   "metadata": {},
   "source": [
    "**Evaluate how stable this statistic is. Speculate on why it is is stable, if it is, or on what demographic facts might explain any changes, if there are any.**"
   ]
  },
  {
   "cell_type": "markdown",
   "metadata": {},
   "source": [
    "We can normalize the table by total births in each particular decades to compute a new table containing proportion\n",
    "of total births for each decade ending in each letter."
   ]
  },
  {
   "cell_type": "code",
   "execution_count": 26,
   "metadata": {
    "collapsed": false,
    "scrolled": false
   },
   "outputs": [
    {
     "data": {
      "text/plain": [
       "           decade\n",
       "frequency  1880s      10930.0\n",
       "           1940s      55230.0\n",
       "           1990s     159145.0\n",
       "dtype: float64"
      ]
     },
     "execution_count": 26,
     "metadata": {},
     "output_type": "execute_result"
    }
   ],
   "source": [
    "decades_table.sum()"
   ]
  },
  {
   "cell_type": "code",
   "execution_count": 27,
   "metadata": {
    "collapsed": false,
    "scrolled": false
   },
   "outputs": [
    {
     "data": {
      "image/png": "[encoded data removed]",
      "text/plain": [
       "<matplotlib.figure.Figure at 0x15397fd0>"
      ]
     },
     "metadata": {},
     "output_type": "display_data"
    }
   ],
   "source": [
    "#plot the decades as bars and the female line for all years as a line\n",
    "c = ['m','g','c']\n",
    "decades_table_prop = decades_table/decades_table.sum().astype(float)\n",
    "decades_table_prop['frequency'].plot(kind = 'bar', rot = 0,color = c, title = 'Normalized Frequency of Last letter of Female names by Female Births')\n",
    "#the female line for all years taken from part 2\n",
    "#plt.plot(range(len(female_last_letter_freq_asc)), female_last_letter_freq_asc.values(), c = 'r', label = 'All Female births')\n",
    "plt.xlabel('Letters')\n",
    "plt.ylabel('Normalized Frequency')\n",
    "plt.legend(loc = 'best')\n",
    "#double the size of plot for visibility\n",
    "size = 2\n",
    "params = plt.gcf()\n",
    "plSize = params.get_size_inches()\n",
    "params.set_size_inches((plSize[0]*size, plSize[1]*size))\n",
    "plt.show()"
   ]
  },
  {
   "cell_type": "markdown",
   "metadata": {},
   "source": [
    "The statistics are pretty stable for some letters, but not so stable for other letters.\n",
    "<br>The letters 'a' and 'e' while decreasing in popularity are still the leading name end letters. There has been a rise in the usage of letters 'n' and 'y' in 1940s and 1990s.\n",
    "<br>Fewer parents choose common names for their female children as we progress through the decades.\n",
    "<br>Tradition no longer dictates how female children are named.\n",
    "<br>We can see in 1880s that majority of female names end in 'a' and 'e'.\n",
    "<br>In 1940s majority of female names end in 'a', 'e', 'i', 'l', 'n', 's' and 'y' which starts a break from tradition.\n",
    "<br>In 1990s majority of female names end in 'a', 'e', 'h', 'i', 'l', 'n' and 'y' which signals that while some might still choose traditional names, fashion or trends or uniqueness in names might also dictate how females are named in recent decades."
   ]
  },
  {
   "cell_type": "code",
   "execution_count": null,
   "metadata": {
    "collapsed": true
   },
   "outputs": [],
   "source": []
  }
 ],
 "metadata": {
  "kernelspec": {
   "display_name": "Python 2",
   "language": "python",
   "name": "python2"
  },
  "language_info": {
   "codemirror_mode": {
    "name": "ipython",
    "version": 2
   },
   "file_extension": ".py",
   "mimetype": "text/x-python",
   "name": "python",
   "nbconvert_exporter": "python",
   "pygments_lexer": "ipython2",
   "version": "2.7.11"
  }
 },
 "nbformat": 4,
 "nbformat_minor": 0
}
